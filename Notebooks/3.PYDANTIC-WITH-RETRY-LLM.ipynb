{
 "cells": [
  {
   "cell_type": "markdown",
   "id": "93f4f0e4",
   "metadata": {},
   "source": [
    "# 3: Prompting for structure and setting up a retry method \n",
    "\n",
    "- Define structured data models for LLM responses\n",
    "- Build robust retry mechanisms for validation errors\n",
    "- Create reusable functions for LLM interactions\n",
    "\n",
    "---"
   ]
  },
  {
   "cell_type": "markdown",
   "id": "111aed13",
   "metadata": {},
   "source": [
    "##### Import packages and initialize the OpenAI client"
   ]
  },
  {
   "cell_type": "code",
   "execution_count": 3,
   "id": "e540ca5a",
   "metadata": {},
   "outputs": [],
   "source": [
    "from pydantic import BaseModel, ValidationError, Field, EmailStr\n",
    "from typing import List, Literal, Optional\n",
    "\n",
    "import os\n",
    "import json\n",
    "from datetime import date\n",
    "import openai\n",
    "\n",
    "\n",
    "from dotenv import load_dotenv\n",
    "OPENAI_API_KEY = os.getenv('OPENAI_API_KEY')"
   ]
  },
  {
   "cell_type": "code",
   "execution_count": 4,
   "id": "e0e2e3a1",
   "metadata": {},
   "outputs": [],
   "source": [
    "client = openai.OpenAI()"
   ]
  },
  {
   "cell_type": "markdown",
   "id": "5d429339",
   "metadata": {},
   "source": [
    "##### Define sample input data (JSON)"
   ]
  },
  {
   "cell_type": "code",
   "execution_count": 5,
   "id": "6efb7328",
   "metadata": {},
   "outputs": [],
   "source": [
    "# Define a JSON string representing user input\n",
    "user_input_json = '''\n",
    "{\n",
    "    \"name\": \"Joe User\",\n",
    "    \"email\": \"joe.user@example.com\",\n",
    "    \"query\": \"I forgot my password.\",\n",
    "    \"order_number\": null,\n",
    "    \"purchase_date\": null\n",
    "}\n",
    "'''"
   ]
  },
  {
   "cell_type": "markdown",
   "id": "389701a2",
   "metadata": {},
   "source": [
    "##### Define UserInput Data Model"
   ]
  },
  {
   "cell_type": "code",
   "execution_count": 6,
   "id": "322f5148",
   "metadata": {},
   "outputs": [],
   "source": [
    "class UserInput(BaseModel):\n",
    "    name: str\n",
    "    email: EmailStr\n",
    "    query: str\n",
    "    order_id: Optional[int] = Field(\n",
    "        None,\n",
    "        description=\"5-digit order number (cannot start with 0)\",\n",
    "        ge=10000,\n",
    "        le=99999\n",
    "    )\n",
    "    purchase_date: Optional[date] = None    \n"
   ]
  },
  {
   "cell_type": "markdown",
   "id": "161a96e4",
   "metadata": {},
   "source": [
    "##### Create an instance of user input"
   ]
  },
  {
   "cell_type": "code",
   "execution_count": 7,
   "id": "30ed7ea8",
   "metadata": {},
   "outputs": [],
   "source": [
    "try:\n",
    "    user_input = UserInput.model_validate_json(user_input_json)\n",
    "except ValidationError as e:\n",
    "    print(f\"Validation errors occured:\")\n",
    "    for error in e.errors():\n",
    "        print(f\"{error['loc'][0]}: {error['msg']}\")     \n"
   ]
  },
  {
   "cell_type": "markdown",
   "id": "09cb4d2e",
   "metadata": {},
   "source": [
    "##### Create a new Data Model called CustomerQuery"
   ]
  },
  {
   "cell_type": "code",
   "execution_count": 8,
   "id": "f62889ab",
   "metadata": {},
   "outputs": [],
   "source": [
    "class CustomerQuery(UserInput):\n",
    "    priority: str = Field(\n",
    "        default = ...,\n",
    "        description = \"Priority Level: low, medium, high\"\n",
    "    )\n",
    "    category: Literal[\"refund_request\", \"information_request\", \"other\"] = Field(\n",
    "        default = ...,\n",
    "        description = \"Query Category\"\n",
    "    )\n",
    "    is_complaint: bool = Field(\n",
    "        default = ...,\n",
    "        description = \"Whether this is a complaint\"\n",
    "    )\n",
    "    tags: List[str] = Field(\n",
    "        default = ...,\n",
    "        description = \"Relevant keyword tags\"\n",
    "    )"
   ]
  },
  {
   "cell_type": "markdown",
   "id": "1a06ccbd",
   "metadata": {},
   "source": [
    "#### Construct an example output"
   ]
  },
  {
   "cell_type": "code",
   "execution_count": 9,
   "id": "c0874055",
   "metadata": {},
   "outputs": [],
   "source": [
    "# Create a prompt with generic example data to guide LLM.\n",
    "example_response_structure = f\"\"\"{{\n",
    "    name=\"Example User\",\n",
    "    email=\"user@example.com\",\n",
    "    query=\"I ordered a new computer monitor and it arrived with the screen cracked. I need to exchange it for a new one.\",\n",
    "    order_id=12345,\n",
    "    purchase_date=\"2025-12-31\",\n",
    "    priority=\"medium\",\n",
    "    category=\"refund_request\",\n",
    "    is_complaint=True,\n",
    "    tags=[\"monitor\", \"support\", \"exchange\"] \n",
    "}}\"\"\""
   ]
  },
  {
   "cell_type": "markdown",
   "id": "d85fd598",
   "metadata": {},
   "source": [
    "#### Create prompt with user data and expected JSON structure"
   ]
  },
  {
   "cell_type": "code",
   "execution_count": 10,
   "id": "18ba6232",
   "metadata": {},
   "outputs": [
    {
     "name": "stdout",
     "output_type": "stream",
     "text": [
      "\n",
      "Please analyze this user query\n",
      " {\n",
      "  \"name\": \"Joe User\",\n",
      "  \"email\": \"joe.user@example.com\",\n",
      "  \"query\": \"I forgot my password.\",\n",
      "  \"order_id\": null,\n",
      "  \"purchase_date\": null\n",
      "}:\n",
      "\n",
      "Return your analysis as a JSON object matching this exact structure \n",
      "and data types:\n",
      "{\n",
      "    name=\"Example User\",\n",
      "    email=\"user@example.com\",\n",
      "    query=\"I ordered a new computer monitor and it arrived with the screen cracked. I need to exchange it for a new one.\",\n",
      "    order_id=12345,\n",
      "    purchase_date=\"2025-12-31\",\n",
      "    priority=\"medium\",\n",
      "    category=\"refund_request\",\n",
      "    is_complaint=True,\n",
      "    tags=[\"monitor\", \"support\", \"exchange\"] \n",
      "}\n",
      "\n",
      "Respond ONLY with valid JSON. Do not include any explanations or \n",
      "other text or formatting before or after the JSON object.\n",
      "\n"
     ]
    }
   ],
   "source": [
    "# Create prompt with user data and expected JSON structure\n",
    "prompt = f\"\"\"\n",
    "Please analyze this user query\\n {user_input.model_dump_json(indent=2)}:\n",
    "\n",
    "Return your analysis as a JSON object matching this exact structure \n",
    "and data types:\n",
    "{example_response_structure}\n",
    "\n",
    "Respond ONLY with valid JSON. Do not include any explanations or \n",
    "other text or formatting before or after the JSON object.\n",
    "\"\"\"\n",
    "\n",
    "print(prompt)"
   ]
  },
  {
   "cell_type": "markdown",
   "id": "f7539295",
   "metadata": {},
   "source": [
    "#### Define a function to call an LLM and try it with your prompt"
   ]
  },
  {
   "cell_type": "code",
   "execution_count": 11,
   "id": "a0411add",
   "metadata": {},
   "outputs": [],
   "source": [
    "# Define a function to call the LLM\n",
    "def call_llm(prompt, model = \"gpt-4o\"):\n",
    "    response = client.chat.completions.create(\n",
    "        model = model,\n",
    "        messages = [\n",
    "            {\n",
    "                \"role\": \"user\",\n",
    "                \"content\": prompt\n",
    "            }\n",
    "        ]\n",
    "    )\n",
    "    return response.choices[0].message.content"
   ]
  },
  {
   "cell_type": "code",
   "execution_count": 12,
   "id": "eb6d23a4",
   "metadata": {},
   "outputs": [
    {
     "name": "stdout",
     "output_type": "stream",
     "text": [
      "```json\n",
      "{\n",
      "    \"name\": \"Joe User\",\n",
      "    \"email\": \"joe.user@example.com\",\n",
      "    \"query\": \"I forgot my password.\",\n",
      "    \"order_id\": null,\n",
      "    \"purchase_date\": null,\n",
      "    \"priority\": \"high\",\n",
      "    \"category\": \"account_issue\",\n",
      "    \"is_complaint\": false,\n",
      "    \"tags\": [\"password\", \"support\", \"account\"]\n",
      "}\n",
      "```\n"
     ]
    }
   ],
   "source": [
    "# Get response from LLM\n",
    "response_content = call_llm(prompt)\n",
    "print(response_content)"
   ]
  },
  {
   "cell_type": "markdown",
   "id": "94fe6a61",
   "metadata": {},
   "source": [
    "#### Validate the LLM output using your CustomerQuery model"
   ]
  },
  {
   "cell_type": "markdown",
   "id": "657ff36a",
   "metadata": {},
   "source": [
    "##### Attempt to parse the response into CustomerQuery model"
   ]
  },
  {
   "cell_type": "code",
   "execution_count": 13,
   "id": "36e13eda",
   "metadata": {},
   "outputs": [
    {
     "ename": "ValidationError",
     "evalue": "1 validation error for CustomerQuery\n  Invalid JSON: expected value at line 1 column 1 [type=json_invalid, input_value='```json\\n{\\n    \"name\": ...rt\", \"account\"]\\n}\\n```', input_type=str]\n    For further information visit https://errors.pydantic.dev/2.11/v/json_invalid",
     "output_type": "error",
     "traceback": [
      "\u001b[1;31m---------------------------------------------------------------------------\u001b[0m",
      "\u001b[1;31mValidationError\u001b[0m                           Traceback (most recent call last)",
      "Cell \u001b[1;32mIn[13], line 1\u001b[0m\n\u001b[1;32m----> 1\u001b[0m valid_data \u001b[38;5;241m=\u001b[39m \u001b[43mCustomerQuery\u001b[49m\u001b[38;5;241;43m.\u001b[39;49m\u001b[43mmodel_validate_json\u001b[49m\u001b[43m(\u001b[49m\u001b[43mresponse_content\u001b[49m\u001b[43m)\u001b[49m\n",
      "File \u001b[1;32md:\\Softwares\\Anaconda3\\envs\\llm_env\\Lib\\site-packages\\pydantic\\main.py:746\u001b[0m, in \u001b[0;36mBaseModel.model_validate_json\u001b[1;34m(cls, json_data, strict, context, by_alias, by_name)\u001b[0m\n\u001b[0;32m    740\u001b[0m \u001b[38;5;28;01mif\u001b[39;00m by_alias \u001b[38;5;129;01mis\u001b[39;00m \u001b[38;5;28;01mFalse\u001b[39;00m \u001b[38;5;129;01mand\u001b[39;00m by_name \u001b[38;5;129;01mis\u001b[39;00m \u001b[38;5;129;01mnot\u001b[39;00m \u001b[38;5;28;01mTrue\u001b[39;00m:\n\u001b[0;32m    741\u001b[0m     \u001b[38;5;28;01mraise\u001b[39;00m PydanticUserError(\n\u001b[0;32m    742\u001b[0m         \u001b[38;5;124m'\u001b[39m\u001b[38;5;124mAt least one of `by_alias` or `by_name` must be set to True.\u001b[39m\u001b[38;5;124m'\u001b[39m,\n\u001b[0;32m    743\u001b[0m         code\u001b[38;5;241m=\u001b[39m\u001b[38;5;124m'\u001b[39m\u001b[38;5;124mvalidate-by-alias-and-name-false\u001b[39m\u001b[38;5;124m'\u001b[39m,\n\u001b[0;32m    744\u001b[0m     )\n\u001b[1;32m--> 746\u001b[0m \u001b[38;5;28;01mreturn\u001b[39;00m \u001b[38;5;28;43mcls\u001b[39;49m\u001b[38;5;241;43m.\u001b[39;49m\u001b[43m__pydantic_validator__\u001b[49m\u001b[38;5;241;43m.\u001b[39;49m\u001b[43mvalidate_json\u001b[49m\u001b[43m(\u001b[49m\n\u001b[0;32m    747\u001b[0m \u001b[43m    \u001b[49m\u001b[43mjson_data\u001b[49m\u001b[43m,\u001b[49m\u001b[43m \u001b[49m\u001b[43mstrict\u001b[49m\u001b[38;5;241;43m=\u001b[39;49m\u001b[43mstrict\u001b[49m\u001b[43m,\u001b[49m\u001b[43m \u001b[49m\u001b[43mcontext\u001b[49m\u001b[38;5;241;43m=\u001b[39;49m\u001b[43mcontext\u001b[49m\u001b[43m,\u001b[49m\u001b[43m \u001b[49m\u001b[43mby_alias\u001b[49m\u001b[38;5;241;43m=\u001b[39;49m\u001b[43mby_alias\u001b[49m\u001b[43m,\u001b[49m\u001b[43m \u001b[49m\u001b[43mby_name\u001b[49m\u001b[38;5;241;43m=\u001b[39;49m\u001b[43mby_name\u001b[49m\n\u001b[0;32m    748\u001b[0m \u001b[43m\u001b[49m\u001b[43m)\u001b[49m\n",
      "\u001b[1;31mValidationError\u001b[0m: 1 validation error for CustomerQuery\n  Invalid JSON: expected value at line 1 column 1 [type=json_invalid, input_value='```json\\n{\\n    \"name\": ...rt\", \"account\"]\\n}\\n```', input_type=str]\n    For further information visit https://errors.pydantic.dev/2.11/v/json_invalid"
     ]
    }
   ],
   "source": [
    "valid_data = CustomerQuery.model_validate_json(response_content)"
   ]
  },
  {
   "cell_type": "markdown",
   "id": "e97835df",
   "metadata": {},
   "source": [
    "#### Define a function for error handling"
   ]
  },
  {
   "cell_type": "code",
   "execution_count": 14,
   "id": "ebe55ad0",
   "metadata": {},
   "outputs": [],
   "source": [
    "def validate_with_model(data_model, llm_response):\n",
    "    try:\n",
    "        validated_data = data_model.model_validate_json(llm_response)\n",
    "        print(\"data validation successful\")\n",
    "        print(validated_data.model_dump_json(indent = 2))\n",
    "        return validated_data, None\n",
    "    except ValidationError as e:\n",
    "        print(f\"Error validating data:{e}\")\n",
    "        error_message = (\n",
    "            f\"This response generated a validation error: {e}\"\n",
    "        )\n",
    "        return None, error_message\n",
    "        "
   ]
  },
  {
   "cell_type": "markdown",
   "id": "965cf4f2",
   "metadata": {},
   "source": [
    "#### Test the validation function with LLM Model"
   ]
  },
  {
   "cell_type": "code",
   "execution_count": 15,
   "id": "96801a7e",
   "metadata": {},
   "outputs": [
    {
     "name": "stdout",
     "output_type": "stream",
     "text": [
      "Error validating data:1 validation error for CustomerQuery\n",
      "  Invalid JSON: expected value at line 1 column 1 [type=json_invalid, input_value='```json\\n{\\n    \"name\": ...rt\", \"account\"]\\n}\\n```', input_type=str]\n",
      "    For further information visit https://errors.pydantic.dev/2.11/v/json_invalid\n"
     ]
    }
   ],
   "source": [
    "# Test your validation function with the LLM response\n",
    "validated_data, validation_error = validate_with_model(\n",
    "    CustomerQuery, response_content\n",
    ")"
   ]
  },
  {
   "cell_type": "markdown",
   "id": "b52b5b5e",
   "metadata": {},
   "source": [
    "#### Define a function to create a retry prompt including error details"
   ]
  },
  {
   "cell_type": "code",
   "execution_count": 16,
   "id": "608bba43",
   "metadata": {},
   "outputs": [],
   "source": [
    "# Define a function to create a retry prompt with error feedback\n",
    "def create_retry_prompt(\n",
    "    original_prompt, original_response, error_message\n",
    "):\n",
    "    retry_prompt = f\"\"\"\n",
    "This is a request to fix an error in the structure of an llm_response.\n",
    "Here is the original request:\n",
    "<original_prompt>\n",
    "{original_prompt}\n",
    "</original_prompt>\n",
    "\n",
    "Here is the original llm_response:\n",
    "<llm_response>\n",
    "{original_response}\n",
    "</llm_response>\n",
    "\n",
    "This response generated an error: \n",
    "<error_message>\n",
    "{error_message}\n",
    "</error_message>\n",
    "\n",
    "Compare the error message and the llm_response and identify what \n",
    "needs to be fixed or removed\n",
    "in the llm_response to resolve this error. \n",
    "\n",
    "Respond ONLY with valid JSON. Do not include any explanations or \n",
    "other text or formatting before or after the JSON string.\n",
    "\"\"\"\n",
    "    return retry_prompt"
   ]
  },
  {
   "cell_type": "markdown",
   "id": "4b0dfdcf",
   "metadata": {},
   "source": [
    "#### Create a retry prompt for validation errors"
   ]
  },
  {
   "cell_type": "code",
   "execution_count": 17,
   "id": "59ecfca1",
   "metadata": {},
   "outputs": [
    {
     "name": "stdout",
     "output_type": "stream",
     "text": [
      "\n",
      "This is a request to fix an error in the structure of an llm_response.\n",
      "Here is the original request:\n",
      "<original_prompt>\n",
      "\n",
      "Please analyze this user query\n",
      " {\n",
      "  \"name\": \"Joe User\",\n",
      "  \"email\": \"joe.user@example.com\",\n",
      "  \"query\": \"I forgot my password.\",\n",
      "  \"order_id\": null,\n",
      "  \"purchase_date\": null\n",
      "}:\n",
      "\n",
      "Return your analysis as a JSON object matching this exact structure \n",
      "and data types:\n",
      "{\n",
      "    name=\"Example User\",\n",
      "    email=\"user@example.com\",\n",
      "    query=\"I ordered a new computer monitor and it arrived with the screen cracked. I need to exchange it for a new one.\",\n",
      "    order_id=12345,\n",
      "    purchase_date=\"2025-12-31\",\n",
      "    priority=\"medium\",\n",
      "    category=\"refund_request\",\n",
      "    is_complaint=True,\n",
      "    tags=[\"monitor\", \"support\", \"exchange\"] \n",
      "}\n",
      "\n",
      "Respond ONLY with valid JSON. Do not include any explanations or \n",
      "other text or formatting before or after the JSON object.\n",
      "\n",
      "</original_prompt>\n",
      "\n",
      "Here is the original llm_response:\n",
      "<llm_response>\n",
      "```json\n",
      "{\n",
      "    \"name\": \"Joe User\",\n",
      "    \"email\": \"joe.user@example.com\",\n",
      "    \"query\": \"I forgot my password.\",\n",
      "    \"order_id\": null,\n",
      "    \"purchase_date\": null,\n",
      "    \"priority\": \"high\",\n",
      "    \"category\": \"account_issue\",\n",
      "    \"is_complaint\": false,\n",
      "    \"tags\": [\"password\", \"support\", \"account\"]\n",
      "}\n",
      "```\n",
      "</llm_response>\n",
      "\n",
      "This response generated an error: \n",
      "<error_message>\n",
      "This response generated a validation error: 1 validation error for CustomerQuery\n",
      "  Invalid JSON: expected value at line 1 column 1 [type=json_invalid, input_value='```json\\n{\\n    \"name\": ...rt\", \"account\"]\\n}\\n```', input_type=str]\n",
      "    For further information visit https://errors.pydantic.dev/2.11/v/json_invalid\n",
      "</error_message>\n",
      "\n",
      "Compare the error message and the llm_response and identify what \n",
      "needs to be fixed or removed\n",
      "in the llm_response to resolve this error. \n",
      "\n",
      "Respond ONLY with valid JSON. Do not include any explanations or \n",
      "other text or formatting before or after the JSON string.\n",
      "\n"
     ]
    }
   ],
   "source": [
    "# Create a retry prompt for validation errors\n",
    "validation_retry_prompt = create_retry_prompt(\n",
    "    original_prompt=prompt,\n",
    "    original_response=response_content,\n",
    "    error_message=validation_error\n",
    ")\n",
    "\n",
    "print(validation_retry_prompt)"
   ]
  },
  {
   "cell_type": "markdown",
   "id": "0206249a",
   "metadata": {},
   "source": [
    "#### Call the LLM with RETRY PROMPT"
   ]
  },
  {
   "cell_type": "code",
   "execution_count": 18,
   "id": "e1be0664",
   "metadata": {},
   "outputs": [
    {
     "name": "stdout",
     "output_type": "stream",
     "text": [
      "```json\n",
      "{\n",
      "    \"name\": \"Joe User\",\n",
      "    \"email\": \"joe.user@example.com\",\n",
      "    \"query\": \"I forgot my password.\",\n",
      "    \"order_id\": null,\n",
      "    \"purchase_date\": null,\n",
      "    \"priority\": \"high\",\n",
      "    \"category\": \"account_issue\",\n",
      "    \"is_complaint\": false,\n",
      "    \"tags\": [\"password\", \"support\", \"account\"]\n",
      "}\n",
      "```\n"
     ]
    }
   ],
   "source": [
    "# Call the LLM with the validation retry prompt\n",
    "validation_retry_response = call_llm(validation_retry_prompt)\n",
    "print(validation_retry_response)"
   ]
  },
  {
   "cell_type": "code",
   "execution_count": 19,
   "id": "989b1e6e",
   "metadata": {},
   "outputs": [
    {
     "name": "stdout",
     "output_type": "stream",
     "text": [
      "Error validating data:1 validation error for CustomerQuery\n",
      "  Invalid JSON: expected value at line 1 column 1 [type=json_invalid, input_value='```json\\n{\\n    \"name\": ...rt\", \"account\"]\\n}\\n```', input_type=str]\n",
      "    For further information visit https://errors.pydantic.dev/2.11/v/json_invalid\n"
     ]
    }
   ],
   "source": [
    "# Attempt to validate retry response from LLM\n",
    "validated_data, validation_error = validate_with_model(\n",
    "    CustomerQuery, validation_retry_response\n",
    ")"
   ]
  },
  {
   "cell_type": "markdown",
   "id": "e489fe7e",
   "metadata": {},
   "source": [
    "#### Create a second retry prompt"
   ]
  },
  {
   "cell_type": "code",
   "execution_count": 20,
   "id": "0d20a866",
   "metadata": {},
   "outputs": [
    {
     "name": "stdout",
     "output_type": "stream",
     "text": [
      "\n",
      "This is a request to fix an error in the structure of an llm_response.\n",
      "Here is the original request:\n",
      "<original_prompt>\n",
      "\n",
      "This is a request to fix an error in the structure of an llm_response.\n",
      "Here is the original request:\n",
      "<original_prompt>\n",
      "\n",
      "Please analyze this user query\n",
      " {\n",
      "  \"name\": \"Joe User\",\n",
      "  \"email\": \"joe.user@example.com\",\n",
      "  \"query\": \"I forgot my password.\",\n",
      "  \"order_id\": null,\n",
      "  \"purchase_date\": null\n",
      "}:\n",
      "\n",
      "Return your analysis as a JSON object matching this exact structure \n",
      "and data types:\n",
      "{\n",
      "    name=\"Example User\",\n",
      "    email=\"user@example.com\",\n",
      "    query=\"I ordered a new computer monitor and it arrived with the screen cracked. I need to exchange it for a new one.\",\n",
      "    order_id=12345,\n",
      "    purchase_date=\"2025-12-31\",\n",
      "    priority=\"medium\",\n",
      "    category=\"refund_request\",\n",
      "    is_complaint=True,\n",
      "    tags=[\"monitor\", \"support\", \"exchange\"] \n",
      "}\n",
      "\n",
      "Respond ONLY with valid JSON. Do not include any explanations or \n",
      "other text or formatting before or after the JSON object.\n",
      "\n",
      "</original_prompt>\n",
      "\n",
      "Here is the original llm_response:\n",
      "<llm_response>\n",
      "```json\n",
      "{\n",
      "    \"name\": \"Joe User\",\n",
      "    \"email\": \"joe.user@example.com\",\n",
      "    \"query\": \"I forgot my password.\",\n",
      "    \"order_id\": null,\n",
      "    \"purchase_date\": null,\n",
      "    \"priority\": \"high\",\n",
      "    \"category\": \"account_issue\",\n",
      "    \"is_complaint\": false,\n",
      "    \"tags\": [\"password\", \"support\", \"account\"]\n",
      "}\n",
      "```\n",
      "</llm_response>\n",
      "\n",
      "This response generated an error: \n",
      "<error_message>\n",
      "This response generated a validation error: 1 validation error for CustomerQuery\n",
      "  Invalid JSON: expected value at line 1 column 1 [type=json_invalid, input_value='```json\\n{\\n    \"name\": ...rt\", \"account\"]\\n}\\n```', input_type=str]\n",
      "    For further information visit https://errors.pydantic.dev/2.11/v/json_invalid\n",
      "</error_message>\n",
      "\n",
      "Compare the error message and the llm_response and identify what \n",
      "needs to be fixed or removed\n",
      "in the llm_response to resolve this error. \n",
      "\n",
      "Respond ONLY with valid JSON. Do not include any explanations or \n",
      "other text or formatting before or after the JSON string.\n",
      "\n",
      "</original_prompt>\n",
      "\n",
      "Here is the original llm_response:\n",
      "<llm_response>\n",
      "```json\n",
      "{\n",
      "    \"name\": \"Joe User\",\n",
      "    \"email\": \"joe.user@example.com\",\n",
      "    \"query\": \"I forgot my password.\",\n",
      "    \"order_id\": null,\n",
      "    \"purchase_date\": null,\n",
      "    \"priority\": \"high\",\n",
      "    \"category\": \"account_issue\",\n",
      "    \"is_complaint\": false,\n",
      "    \"tags\": [\"password\", \"support\", \"account\"]\n",
      "}\n",
      "```\n",
      "</llm_response>\n",
      "\n",
      "This response generated an error: \n",
      "<error_message>\n",
      "This response generated a validation error: 1 validation error for CustomerQuery\n",
      "  Invalid JSON: expected value at line 1 column 1 [type=json_invalid, input_value='```json\\n{\\n    \"name\": ...rt\", \"account\"]\\n}\\n```', input_type=str]\n",
      "    For further information visit https://errors.pydantic.dev/2.11/v/json_invalid\n",
      "</error_message>\n",
      "\n",
      "Compare the error message and the llm_response and identify what \n",
      "needs to be fixed or removed\n",
      "in the llm_response to resolve this error. \n",
      "\n",
      "Respond ONLY with valid JSON. Do not include any explanations or \n",
      "other text or formatting before or after the JSON string.\n",
      "\n"
     ]
    }
   ],
   "source": [
    "# Create a second retry prompt for validation errors\n",
    "second_validation_retry_prompt = create_retry_prompt(\n",
    "    original_prompt=validation_retry_prompt,\n",
    "    original_response=validation_retry_response,\n",
    "    error_message=validation_error\n",
    ")\n",
    "\n",
    "print(second_validation_retry_prompt)"
   ]
  },
  {
   "cell_type": "markdown",
   "id": "7932d060",
   "metadata": {},
   "source": [
    "#### Call the LLM with the second validation retry prompt"
   ]
  },
  {
   "cell_type": "code",
   "execution_count": 21,
   "id": "e770aff0",
   "metadata": {},
   "outputs": [
    {
     "name": "stdout",
     "output_type": "stream",
     "text": [
      "{\"name\": \"Joe User\", \"email\": \"joe.user@example.com\", \"query\": \"I forgot my password.\", \"order_id\": null, \"purchase_date\": null, \"priority\": \"high\", \"category\": \"account_issue\", \"is_complaint\": false, \"tags\": [\"password\", \"support\", \"account\"]}\n"
     ]
    }
   ],
   "source": [
    "# Call the LLM with the second validation retry prompt\n",
    "second_validation_retry_response = call_llm(\n",
    "    second_validation_retry_prompt\n",
    ")\n",
    "print(second_validation_retry_response)"
   ]
  },
  {
   "cell_type": "markdown",
   "id": "b2925140",
   "metadata": {},
   "source": [
    "#### Define a function to handle multiple retries in a feedback loop"
   ]
  },
  {
   "cell_type": "code",
   "execution_count": 22,
   "id": "842a46f4",
   "metadata": {},
   "outputs": [],
   "source": [
    "def validate_llm_response(\n",
    "        prompt,\n",
    "        data_model,\n",
    "        n_retry = 5,\n",
    "        model = \"gpt-4o\"\n",
    "):\n",
    "    # Initial LLM call\n",
    "    response_content = call_llm(prompt, model=model)\n",
    "    current_prompt = prompt\n",
    "\n",
    "    # Try to validate with the model\n",
    "    # attempt : 0 = initial, 1  = first retry ...\n",
    "    for attempt in range(n_retry + 1):\n",
    "        validated_data, validation_error = validate_with_model(data_model, response_content)\n",
    "        \n",
    "        if validation_error:\n",
    "            if attempt < n_retry:\n",
    "                print(f\"Retry {attempt} of {n_retry} failed, trying again\")\n",
    "            else:\n",
    "                print(f\"Max retries reached. Last Error: {validation_error}\")\n",
    "                return None\n",
    "            \n",
    "            validation_retry_prompt = create_retry_prompt(\n",
    "                original_prompt=current_prompt,\n",
    "                original_response= response_content,\n",
    "                error_message= validation_error\n",
    "            )\n",
    "            response_content = call_llm(\n",
    "                validation_retry_prompt, model = model\n",
    "            )\n",
    "            current_prompt = validation_retry_prompt\n",
    "            continue # With continue the code goes into the loop again and does not execute the below return\n",
    "        return validated_data, None"
   ]
  },
  {
   "cell_type": "markdown",
   "id": "87d81d0c",
   "metadata": {},
   "source": [
    "#### Test the complete solution"
   ]
  },
  {
   "cell_type": "code",
   "execution_count": 23,
   "id": "86091e65",
   "metadata": {},
   "outputs": [
    {
     "name": "stdout",
     "output_type": "stream",
     "text": [
      "Error validating data:1 validation error for CustomerQuery\n",
      "  Invalid JSON: expected value at line 1 column 1 [type=json_invalid, input_value='```json\\n{\\n    \"name\": ...et\", \"support\"]\\n}\\n```', input_type=str]\n",
      "    For further information visit https://errors.pydantic.dev/2.11/v/json_invalid\n",
      "Retry 0 of 5 failed, trying again\n",
      "Error validating data:1 validation error for CustomerQuery\n",
      "category\n",
      "  Input should be 'refund_request', 'information_request' or 'other' [type=literal_error, input_value='account_issue', input_type=str]\n",
      "    For further information visit https://errors.pydantic.dev/2.11/v/literal_error\n",
      "Retry 1 of 5 failed, trying again\n",
      "data validation successful\n",
      "{\n",
      "  \"name\": \"Joe User\",\n",
      "  \"email\": \"joe.user@example.com\",\n",
      "  \"query\": \"I forgot my password.\",\n",
      "  \"order_id\": null,\n",
      "  \"purchase_date\": null,\n",
      "  \"priority\": \"high\",\n",
      "  \"category\": \"other\",\n",
      "  \"is_complaint\": false,\n",
      "  \"tags\": [\n",
      "    \"password_reset\",\n",
      "    \"support\"\n",
      "  ]\n",
      "}\n"
     ]
    }
   ],
   "source": [
    "validated_data, error = validate_llm_response(\n",
    "    prompt, CustomerQuery\n",
    ")"
   ]
  },
  {
   "cell_type": "markdown",
   "id": "fadf9afc",
   "metadata": {},
   "source": [
    "#### Investigate the model_json_schema for CustomerQuery"
   ]
  },
  {
   "cell_type": "code",
   "execution_count": 24,
   "id": "e4b77e1e",
   "metadata": {},
   "outputs": [
    {
     "name": "stdout",
     "output_type": "stream",
     "text": [
      "{\n",
      "  \"properties\": {\n",
      "    \"name\": {\n",
      "      \"title\": \"Name\",\n",
      "      \"type\": \"string\"\n",
      "    },\n",
      "    \"email\": {\n",
      "      \"format\": \"email\",\n",
      "      \"title\": \"Email\",\n",
      "      \"type\": \"string\"\n",
      "    },\n",
      "    \"query\": {\n",
      "      \"title\": \"Query\",\n",
      "      \"type\": \"string\"\n",
      "    },\n",
      "    \"order_id\": {\n",
      "      \"anyOf\": [\n",
      "        {\n",
      "          \"maximum\": 99999,\n",
      "          \"minimum\": 10000,\n",
      "          \"type\": \"integer\"\n",
      "        },\n",
      "        {\n",
      "          \"type\": \"null\"\n",
      "        }\n",
      "      ],\n",
      "      \"default\": null,\n",
      "      \"description\": \"5-digit order number (cannot start with 0)\",\n",
      "      \"title\": \"Order Id\"\n",
      "    },\n",
      "    \"purchase_date\": {\n",
      "      \"anyOf\": [\n",
      "        {\n",
      "          \"format\": \"date\",\n",
      "          \"type\": \"string\"\n",
      "        },\n",
      "        {\n",
      "          \"type\": \"null\"\n",
      "        }\n",
      "      ],\n",
      "      \"default\": null,\n",
      "      \"title\": \"Purchase Date\"\n",
      "    },\n",
      "    \"priority\": {\n",
      "      \"description\": \"Priority Level: low, medium, high\",\n",
      "      \"title\": \"Priority\",\n",
      "      \"type\": \"string\"\n",
      "    },\n",
      "    \"category\": {\n",
      "      \"description\": \"Query Category\",\n",
      "      \"enum\": [\n",
      "        \"refund_request\",\n",
      "        \"information_request\",\n",
      "        \"other\"\n",
      "      ],\n",
      "      \"title\": \"Category\",\n",
      "      \"type\": \"string\"\n",
      "    },\n",
      "    \"is_complaint\": {\n",
      "      \"description\": \"Whether this is a complaint\",\n",
      "      \"title\": \"Is Complaint\",\n",
      "      \"type\": \"boolean\"\n",
      "    },\n",
      "    \"tags\": {\n",
      "      \"description\": \"Relevant keyword tags\",\n",
      "      \"items\": {\n",
      "        \"type\": \"string\"\n",
      "      },\n",
      "      \"title\": \"Tags\",\n",
      "      \"type\": \"array\"\n",
      "    }\n",
      "  },\n",
      "  \"required\": [\n",
      "    \"name\",\n",
      "    \"email\",\n",
      "    \"query\",\n",
      "    \"priority\",\n",
      "    \"category\",\n",
      "    \"is_complaint\",\n",
      "    \"tags\"\n",
      "  ],\n",
      "  \"title\": \"CustomerQuery\",\n",
      "  \"type\": \"object\"\n",
      "}\n"
     ]
    }
   ],
   "source": [
    "data_model_schema = json.dumps(\n",
    "    CustomerQuery.model_json_schema(), indent=2\n",
    ")\n",
    "print(data_model_schema)"
   ]
  },
  {
   "cell_type": "markdown",
   "id": "ca45da37",
   "metadata": {},
   "source": [
    "#### Construct a new prompt using the JSON schema of your data model -  better way to provide schema instead of an example"
   ]
  },
  {
   "cell_type": "code",
   "execution_count": 25,
   "id": "69c4dbe4",
   "metadata": {},
   "outputs": [],
   "source": [
    "# Create new prompt with user input and model_json_schema\n",
    "prompt = f\"\"\"\n",
    "Please analyze this user query\\n {user_input.model_dump_json(indent=2)}:\n",
    "\n",
    "Return your analysis as a JSON object matching the following schema:\n",
    "{data_model_schema}\n",
    "\n",
    "Respond ONLY with valid JSON. Do not include any explanations or \n",
    "other text or formatting before or after the JSON object.\n",
    "\"\"\""
   ]
  },
  {
   "cell_type": "code",
   "execution_count": 26,
   "id": "7b151bbd",
   "metadata": {},
   "outputs": [
    {
     "name": "stdout",
     "output_type": "stream",
     "text": [
      "Error validating data:1 validation error for CustomerQuery\n",
      "  Invalid JSON: expected value at line 1 column 1 [type=json_invalid, input_value='```json\\n{\\n  \"name\": \"J..._password\"\\n  ]\\n}\\n```', input_type=str]\n",
      "    For further information visit https://errors.pydantic.dev/2.11/v/json_invalid\n",
      "Retry 0 of 5 failed, trying again\n",
      "data validation successful\n",
      "{\n",
      "  \"name\": \"Joe User\",\n",
      "  \"email\": \"joe.user@example.com\",\n",
      "  \"query\": \"I forgot my password.\",\n",
      "  \"order_id\": null,\n",
      "  \"purchase_date\": null,\n",
      "  \"priority\": \"high\",\n",
      "  \"category\": \"other\",\n",
      "  \"is_complaint\": false,\n",
      "  \"tags\": [\n",
      "    \"password\",\n",
      "    \"account_access\",\n",
      "    \"forgot_password\"\n",
      "  ]\n",
      "}\n"
     ]
    }
   ],
   "source": [
    "# Run your validate_llm_response function with the new prompt\n",
    "final_analysis, error = validate_llm_response(\n",
    "    prompt, CustomerQuery\n",
    ")"
   ]
  }
 ],
 "metadata": {
  "kernelspec": {
   "display_name": "llm_env",
   "language": "python",
   "name": "python3"
  },
  "language_info": {
   "codemirror_mode": {
    "name": "ipython",
    "version": 3
   },
   "file_extension": ".py",
   "mimetype": "text/x-python",
   "name": "python",
   "nbconvert_exporter": "python",
   "pygments_lexer": "ipython3",
   "version": "3.11.9"
  }
 },
 "nbformat": 4,
 "nbformat_minor": 5
}
