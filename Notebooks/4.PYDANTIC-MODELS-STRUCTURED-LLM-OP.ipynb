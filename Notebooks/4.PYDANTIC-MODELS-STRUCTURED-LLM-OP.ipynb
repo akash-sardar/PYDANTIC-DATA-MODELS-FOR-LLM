{
 "cells": [
  {
   "cell_type": "markdown",
   "id": "28d7813e",
   "metadata": {},
   "source": [
    "# Lesson 4: Using Pydantic Models for Structured LLM Output\n",
    "- Use Pydantic models directly in your API calls to LLMs\n",
    "- Reliably receive a properly structured response using a variety of different frameworks and LLM providers.\n",
    "\n",
    "---\n",
    "\n",
    "### Import all required libraries and set up your environment"
   ]
  },
  {
   "cell_type": "code",
   "execution_count": 1,
   "id": "30d0654a",
   "metadata": {},
   "outputs": [
    {
     "name": "stderr",
     "output_type": "stream",
     "text": [
      "d:\\Softwares\\Anaconda3\\envs\\llm_env\\Lib\\site-packages\\pydantic\\plugin\\_schema_validator.py:39: UserWarning: ModuleNotFoundError while loading the `logfire-plugin` Pydantic plugin, this plugin will not be installed.\n",
      "\n",
      "ModuleNotFoundError(\"No module named 'rich'\")\n",
      "  plugins = get_plugins()\n"
     ]
    }
   ],
   "source": [
    "# Import packages\n",
    "from pydantic import BaseModel, Field, EmailStr\n",
    "from typing import List, Literal, Optional\n",
    "from openai import OpenAI\n",
    "import instructor\n",
    "import anthropic\n",
    "from datetime import date\n",
    "\n",
    "import os\n",
    "from dotenv import load_dotenv\n",
    "OPENAI_API_KEY = os.getenv('OPENAI_API_KEY')\n",
    "ANTHROPIC_API_KEY = os.getenv('ANTHROPIC_API_KEY')\n",
    "GOOGLE_API_KEY = os.getenv('GOOGLE_API_KEY')"
   ]
  },
  {
   "cell_type": "markdown",
   "id": "ce1389e9",
   "metadata": {},
   "source": [
    "### Define The Pydantic Data Models"
   ]
  },
  {
   "cell_type": "code",
   "execution_count": 2,
   "id": "22e58f7d",
   "metadata": {},
   "outputs": [],
   "source": [
    "# Define the UserInput model for customer support queries\n",
    "class UserInput(BaseModel):\n",
    "    name: str\n",
    "    email: EmailStr\n",
    "    query: str\n",
    "    order_id: Optional[int] = Field(\n",
    "        None,\n",
    "        description=\"5-digit order number (cannot start with 0)\",\n",
    "        ge=10000,\n",
    "        le=99999\n",
    "    )\n",
    "    purchase_date: Optional[date] = None\n",
    "\n",
    "# Define the CustomerQuery model that inherits from UserInput\n",
    "class CustomerQuery(UserInput):\n",
    "    priority: str = Field(\n",
    "        ..., description=\"Priority level: low, medium, high\"\n",
    "    )\n",
    "    category: Literal[\n",
    "        'refund_request', 'information_request', 'other'\n",
    "    ] = Field(..., description=\"Query category\")\n",
    "    is_complaint: bool = Field(\n",
    "        ..., description=\"Whether this is a complaint\"\n",
    "    )\n",
    "    tags: List[str] = Field(..., description=\"Relevant keyword tags\")"
   ]
  },
  {
   "cell_type": "markdown",
   "id": "e9533ee3",
   "metadata": {},
   "source": [
    "#### Provide sample input and validate it using your model"
   ]
  },
  {
   "cell_type": "code",
   "execution_count": 3,
   "id": "7ed21e2e",
   "metadata": {},
   "outputs": [],
   "source": [
    "# Define your input data as a JSON string\n",
    "user_input_json = '''{\n",
    "    \"name\": \"Joe User\",\n",
    "    \"email\": \"joe.user@example.com\",\n",
    "    \"query\": \"I ordered a new computer monitor and it arrived with the screen cracked. This is the second time this has happened. I need a replacement ASAP.\",\n",
    "    \"order_number\": 12345,\n",
    "    \"purchase_date\": \"2025-12-31\"\n",
    "}'''"
   ]
  },
  {
   "cell_type": "code",
   "execution_count": 4,
   "id": "a1ba70fe",
   "metadata": {},
   "outputs": [],
   "source": [
    "# Validate the user_input_json by creating a UserInput instance\n",
    "user_input = UserInput.model_validate_json(user_input_json)"
   ]
  },
  {
   "cell_type": "markdown",
   "id": "423c86af",
   "metadata": {},
   "source": [
    "### Build a prompt and call the Anthropic API with the instructor package for structured output"
   ]
  },
  {
   "cell_type": "code",
   "execution_count": 5,
   "id": "793bcb0b",
   "metadata": {},
   "outputs": [],
   "source": [
    "prompt = (\n",
    "    f\"Analyze the following customer query {user_input} \"\n",
    "    f\"and provide a structured response.\"\n",
    ")"
   ]
  },
  {
   "cell_type": "markdown",
   "id": "94c125fb",
   "metadata": {},
   "source": [
    "#### Load and call LLM with Instructor package"
   ]
  },
  {
   "cell_type": "code",
   "execution_count": 6,
   "id": "74bebc97",
   "metadata": {},
   "outputs": [],
   "source": [
    "# Create the client with instructor\n",
    "anthropic_client = instructor.from_anthropic(anthropic.Anthropic())"
   ]
  },
  {
   "cell_type": "code",
   "execution_count": 7,
   "id": "cc3ba390",
   "metadata": {},
   "outputs": [],
   "source": [
    "# Get the LLM response - Instructor Client performs any retries if required\n",
    "response = anthropic_client.messages.create(\n",
    "    model = \"claude-3-7-sonnet-latest\",\n",
    "    max_tokens = 1024,\n",
    "    messages=[\n",
    "\n",
    "        {\n",
    "            \"role\": \"user\",\n",
    "            \"content\": prompt\n",
    "        }\n",
    "    ],\n",
    "    response_model=CustomerQuery\n",
    ")"
   ]
  },
  {
   "cell_type": "code",
   "execution_count": 8,
   "id": "0f828729",
   "metadata": {},
   "outputs": [
    {
     "name": "stdout",
     "output_type": "stream",
     "text": [
      "<class '__main__.CustomerQuery'>\n",
      "{\n",
      "  \"name\": \"Joe User\",\n",
      "  \"email\": \"joe.user@example.com\",\n",
      "  \"query\": \"I ordered a new computer monitor and it arrived with the screen cracked. This is the second time this has happened. I need a replacement ASAP.\",\n",
      "  \"order_id\": null,\n",
      "  \"purchase_date\": \"2025-12-31\",\n",
      "  \"priority\": \"high\",\n",
      "  \"category\": \"refund_request\",\n",
      "  \"is_complaint\": true,\n",
      "  \"tags\": [\n",
      "    \"damaged item\",\n",
      "    \"computer monitor\",\n",
      "    \"replacement\",\n",
      "    \"second occurrence\"\n",
      "  ]\n",
      "}\n"
     ]
    }
   ],
   "source": [
    "# Inspect the returned structured data\n",
    "print(type(response))\n",
    "print(response.model_dump_json(indent=2))"
   ]
  },
  {
   "cell_type": "markdown",
   "id": "1e4dcd09",
   "metadata": {},
   "source": [
    "### Use OpenAI's structured output API with your Pydantic schema"
   ]
  },
  {
   "cell_type": "code",
   "execution_count": 9,
   "id": "ea391b84",
   "metadata": {},
   "outputs": [
    {
     "name": "stdout",
     "output_type": "stream",
     "text": [
      "<class 'str'>\n",
      "{\"name\":\"Joe User\",\"email\":\"joe.user@example.com\",\"query\":\"I ordered a new computer monitor and it arrived with the screen cracked. This is the second time this has happened. I need a replacement ASAP.\",\"order_id\":null,\"purchase_date\":\"2025-12-31\",\"priority\":\"high\",\"category\":\"refund_request\",\"is_complaint\":true,\"tags\":[\"cracked_screen\",\"replacement\",\"urgent\",\"repeat_issue\"]}\n"
     ]
    }
   ],
   "source": [
    "# Initialize OpenAI client and call passing CustomerQuery in your API call\n",
    "openai_client = OpenAI()\n",
    "response = openai_client.beta.chat.completions.parse(\n",
    "    model=\"gpt-4o\",\n",
    "    messages=[{\"role\": \"user\", \"content\": prompt}],\n",
    "    response_format=CustomerQuery\n",
    ")\n",
    "response_content = response.choices[0].message.content\n",
    "print(type(response_content))\n",
    "print(response_content)"
   ]
  },
  {
   "cell_type": "markdown",
   "id": "e6f76954",
   "metadata": {},
   "source": [
    "### Additional advanced usage and inspection"
   ]
  },
  {
   "cell_type": "code",
   "execution_count": 10,
   "id": "5e93e790",
   "metadata": {},
   "outputs": [
    {
     "name": "stdout",
     "output_type": "stream",
     "text": [
      "<class '__main__.CustomerQuery'>\n",
      "{\n",
      "  \"name\": \"Joe User\",\n",
      "  \"email\": \"joe.user@example.com\",\n",
      "  \"query\": \"I ordered a new computer monitor and it arrived with the screen cracked. This is the second time this has happened. I need a replacement ASAP.\",\n",
      "  \"order_id\": null,\n",
      "  \"purchase_date\": \"2025-12-31\",\n",
      "  \"priority\": \"high\",\n",
      "  \"category\": \"refund_request\",\n",
      "  \"is_complaint\": true,\n",
      "  \"tags\": [\n",
      "    \"cracked_screen\",\n",
      "    \"replacement\",\n",
      "    \"urgent\",\n",
      "    \"repeat_issue\"\n",
      "  ]\n",
      "}\n"
     ]
    }
   ],
   "source": [
    "# Validate the repsonse you got from the LLM\n",
    "valid_data = CustomerQuery.model_validate_json(\n",
    "    response_content\n",
    ")\n",
    "print(type(valid_data))\n",
    "print(valid_data.model_dump_json(indent=2))"
   ]
  },
  {
   "cell_type": "markdown",
   "id": "1711c9a3",
   "metadata": {},
   "source": [
    "### Try the responses API from OpenAI"
   ]
  },
  {
   "cell_type": "code",
   "execution_count": 11,
   "id": "e1e2d7b4",
   "metadata": {},
   "outputs": [
    {
     "name": "stdout",
     "output_type": "stream",
     "text": [
      "<class 'openai.types.responses.parsed_response.ParsedResponse[CustomerQuery]'>\n"
     ]
    }
   ],
   "source": [
    "response = openai_client.responses.parse(\n",
    "    model=\"gpt-4o\",\n",
    "    input=[{\"role\": \"user\", \"content\": prompt}],\n",
    "    text_format=CustomerQuery\n",
    ")\n",
    "\n",
    "print(type(response))"
   ]
  },
  {
   "cell_type": "code",
   "execution_count": 12,
   "id": "688a2f53",
   "metadata": {},
   "outputs": [
    {
     "name": "stdout",
     "output_type": "stream",
     "text": [
      "openai.types.responses.parsed_response.ParsedResponse[CustomerQuery]\n",
      "openai.types.responses.parsed_response.ParsedResponse\n",
      "openai.types.responses.response.Response\n",
      "openai._models.GenericModel\n",
      "openai._compat.GenericModel\n",
      "openai.BaseModel\n",
      "pydantic.main.BaseModel\n",
      "typing.Generic\n",
      "builtins.object\n"
     ]
    }
   ],
   "source": [
    "# Investigate class inheritance structure of the OpenAI response\n",
    "def print_class_inheritence(llm_response):\n",
    "    for cls in type(llm_response).mro():\n",
    "        print(f\"{cls.__module__}.{cls.__name__}\")\n",
    "\n",
    "print_class_inheritence(response)"
   ]
  },
  {
   "cell_type": "code",
   "execution_count": 13,
   "id": "08f2af84",
   "metadata": {},
   "outputs": [
    {
     "name": "stdout",
     "output_type": "stream",
     "text": [
      "<class '__main__.CustomerQuery'>\n",
      "{\n",
      "  \"name\": \"Joe User\",\n",
      "  \"email\": \"joe.user@example.com\",\n",
      "  \"query\": \"I ordered a new computer monitor and it arrived with the screen cracked. This is the second time this has happened. I need a replacement ASAP.\",\n",
      "  \"order_id\": null,\n",
      "  \"purchase_date\": \"2025-12-31\",\n",
      "  \"priority\": \"high\",\n",
      "  \"category\": \"refund_request\",\n",
      "  \"is_complaint\": true,\n",
      "  \"tags\": [\n",
      "    \"damaged product\",\n",
      "    \"replacement request\",\n",
      "    \"urgent\"\n",
      "  ]\n",
      "}\n"
     ]
    }
   ],
   "source": [
    "# Print the response type and content \n",
    "print(type(response.output_parsed))\n",
    "print(response.output_parsed.model_dump_json(indent=2))"
   ]
  },
  {
   "cell_type": "markdown",
   "id": "4039d724",
   "metadata": {},
   "source": [
    "### Try out the Pydantic AI package for defining an agent and getting a structured response"
   ]
  },
  {
   "cell_type": "code",
   "execution_count": null,
   "id": "f5bc2991",
   "metadata": {},
   "outputs": [],
   "source": [
    "# Try out the Pydantic AI package for defining an agent and getting a structured response\n",
    "from pydantic_ai import Agent\n",
    "import nest_asyncio\n",
    "nest_asyncio.apply()\n",
    "\n",
    "agent = Agent(\n",
    "    model=\"google-gla:gemini-2.0-flash\",\n",
    "    output_type=CustomerQuery,\n",
    ")\n",
    "\n",
    "response = agent.run_sync(prompt)"
   ]
  },
  {
   "cell_type": "markdown",
   "id": "00bbc991",
   "metadata": {},
   "source": []
  }
 ],
 "metadata": {
  "kernelspec": {
   "display_name": "llm_env",
   "language": "python",
   "name": "python3"
  },
  "language_info": {
   "codemirror_mode": {
    "name": "ipython",
    "version": 3
   },
   "file_extension": ".py",
   "mimetype": "text/x-python",
   "name": "python",
   "nbconvert_exporter": "python",
   "pygments_lexer": "ipython3",
   "version": "3.11.9"
  }
 },
 "nbformat": 4,
 "nbformat_minor": 5
}
